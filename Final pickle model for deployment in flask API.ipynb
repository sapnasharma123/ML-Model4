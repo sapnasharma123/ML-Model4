{
 "cells": [
  {
   "cell_type": "markdown",
   "id": "f68b4a7c",
   "metadata": {},
   "source": [
    "# Final pickled model for Flask App ANd API"
   ]
  },
  {
   "cell_type": "markdown",
   "id": "d0d67117",
   "metadata": {},
   "source": [
    "Name- Sapna Sharma\n",
    "\n",
    "Batch- 23rd Aprril 2023\n",
    "\n",
    "Project Name -  Live Project 1: Chemical Property Modelling in association with asktalos.com and UltraTech Cement Limited and Aditya Birla Group"
   ]
  },
  {
   "cell_type": "code",
   "execution_count": 1,
   "id": "1a9c583c",
   "metadata": {},
   "outputs": [],
   "source": [
    "import pandas as pd\n",
    "import matplotlib.pyplot as plt\n",
    "import seaborn as sns\n",
    "import scipy as stats\n",
    "from scipy import stats\n",
    "import numpy as np\n",
    "from sklearn.preprocessing import PowerTransformer, StandardScaler\n",
    "from sklearn.feature_selection import SelectKBest\n",
    "from sklearn.feature_selection import f_regression\n",
    "from sklearn.linear_model import LinearRegression\n",
    "from sklearn.ensemble import RandomForestRegressor\n",
    "from sklearn.metrics import r2_score,mean_absolute_error,mean_squared_error\n",
    "from sklearn.model_selection import train_test_split\n",
    "from sklearn.model_selection import cross_val_score, KFold\n",
    "from sklearn.metrics import make_scorer"
   ]
  },
  {
   "cell_type": "code",
   "execution_count": 2,
   "id": "b0cb4c4f",
   "metadata": {},
   "outputs": [],
   "source": [
    "data = pd.read_csv(r\"C:\\Users\\sapna\\Desktop\\project Ask Talos\\project ask talos (Material Compressive Strength Experimental Data (1) ).csv\")"
   ]
  },
  {
   "cell_type": "code",
   "execution_count": 3,
   "id": "ba97958f",
   "metadata": {},
   "outputs": [
    {
     "data": {
      "text/html": [
       "<div>\n",
       "<style scoped>\n",
       "    .dataframe tbody tr th:only-of-type {\n",
       "        vertical-align: middle;\n",
       "    }\n",
       "\n",
       "    .dataframe tbody tr th {\n",
       "        vertical-align: top;\n",
       "    }\n",
       "\n",
       "    .dataframe thead th {\n",
       "        text-align: right;\n",
       "    }\n",
       "</style>\n",
       "<table border=\"1\" class=\"dataframe\">\n",
       "  <thead>\n",
       "    <tr style=\"text-align: right;\">\n",
       "      <th></th>\n",
       "      <th>Material Quantity (gm)</th>\n",
       "      <th>Additive Catalyst (gm)</th>\n",
       "      <th>Ash Component (gm)</th>\n",
       "      <th>Water Mix (ml)</th>\n",
       "      <th>Plasticizer (gm)</th>\n",
       "      <th>Moderate Aggregator</th>\n",
       "      <th>Refined Aggregator</th>\n",
       "      <th>Formulation Duration (hrs)</th>\n",
       "      <th>Compression Strength MPa</th>\n",
       "    </tr>\n",
       "  </thead>\n",
       "  <tbody>\n",
       "    <tr>\n",
       "      <th>0</th>\n",
       "      <td>486.42</td>\n",
       "      <td>180.60</td>\n",
       "      <td>21.26</td>\n",
       "      <td>201.66</td>\n",
       "      <td>16.11</td>\n",
       "      <td>1151.17</td>\n",
       "      <td>708.50</td>\n",
       "      <td>344.43</td>\n",
       "      <td>79.89</td>\n",
       "    </tr>\n",
       "    <tr>\n",
       "      <th>1</th>\n",
       "      <td>133.32</td>\n",
       "      <td>260.14</td>\n",
       "      <td>185.60</td>\n",
       "      <td>175.99</td>\n",
       "      <td>6.27</td>\n",
       "      <td>1090.57</td>\n",
       "      <td>1010.25</td>\n",
       "      <td>28.86</td>\n",
       "      <td>59.80</td>\n",
       "    </tr>\n",
       "    <tr>\n",
       "      <th>2</th>\n",
       "      <td>559.97</td>\n",
       "      <td>2.84</td>\n",
       "      <td>111.76</td>\n",
       "      <td>295.23</td>\n",
       "      <td>11.95</td>\n",
       "      <td>1024.93</td>\n",
       "      <td>810.69</td>\n",
       "      <td>237.68</td>\n",
       "      <td>77.86</td>\n",
       "    </tr>\n",
       "    <tr>\n",
       "      <th>3</th>\n",
       "      <td>391.43</td>\n",
       "      <td>351.05</td>\n",
       "      <td>76.39</td>\n",
       "      <td>299.14</td>\n",
       "      <td>19.00</td>\n",
       "      <td>1134.88</td>\n",
       "      <td>881.34</td>\n",
       "      <td>208.81</td>\n",
       "      <td>71.74</td>\n",
       "    </tr>\n",
       "    <tr>\n",
       "      <th>4</th>\n",
       "      <td>394.78</td>\n",
       "      <td>352.61</td>\n",
       "      <td>194.35</td>\n",
       "      <td>235.54</td>\n",
       "      <td>17.02</td>\n",
       "      <td>1098.24</td>\n",
       "      <td>781.01</td>\n",
       "      <td>266.84</td>\n",
       "      <td>76.07</td>\n",
       "    </tr>\n",
       "    <tr>\n",
       "      <th>...</th>\n",
       "      <td>...</td>\n",
       "      <td>...</td>\n",
       "      <td>...</td>\n",
       "      <td>...</td>\n",
       "      <td>...</td>\n",
       "      <td>...</td>\n",
       "      <td>...</td>\n",
       "      <td>...</td>\n",
       "      <td>...</td>\n",
       "    </tr>\n",
       "    <tr>\n",
       "      <th>6134</th>\n",
       "      <td>188.78</td>\n",
       "      <td>162.30</td>\n",
       "      <td>142.65</td>\n",
       "      <td>163.66</td>\n",
       "      <td>15.98</td>\n",
       "      <td>1003.82</td>\n",
       "      <td>1002.47</td>\n",
       "      <td>357.91</td>\n",
       "      <td>50.61</td>\n",
       "    </tr>\n",
       "    <tr>\n",
       "      <th>6135</th>\n",
       "      <td>349.87</td>\n",
       "      <td>291.45</td>\n",
       "      <td>77.82</td>\n",
       "      <td>188.26</td>\n",
       "      <td>25.82</td>\n",
       "      <td>925.10</td>\n",
       "      <td>1005.31</td>\n",
       "      <td>104.20</td>\n",
       "      <td>54.24</td>\n",
       "    </tr>\n",
       "    <tr>\n",
       "      <th>6136</th>\n",
       "      <td>358.29</td>\n",
       "      <td>22.70</td>\n",
       "      <td>17.99</td>\n",
       "      <td>208.58</td>\n",
       "      <td>34.91</td>\n",
       "      <td>1081.07</td>\n",
       "      <td>792.44</td>\n",
       "      <td>302.76</td>\n",
       "      <td>56.57</td>\n",
       "    </tr>\n",
       "    <tr>\n",
       "      <th>6137</th>\n",
       "      <td>445.25</td>\n",
       "      <td>275.59</td>\n",
       "      <td>178.86</td>\n",
       "      <td>191.77</td>\n",
       "      <td>18.07</td>\n",
       "      <td>865.15</td>\n",
       "      <td>833.10</td>\n",
       "      <td>374.63</td>\n",
       "      <td>58.21</td>\n",
       "    </tr>\n",
       "    <tr>\n",
       "      <th>6138</th>\n",
       "      <td>560.23</td>\n",
       "      <td>266.56</td>\n",
       "      <td>167.14</td>\n",
       "      <td>175.49</td>\n",
       "      <td>10.63</td>\n",
       "      <td>1165.87</td>\n",
       "      <td>894.53</td>\n",
       "      <td>360.96</td>\n",
       "      <td>58.96</td>\n",
       "    </tr>\n",
       "  </tbody>\n",
       "</table>\n",
       "<p>6139 rows × 9 columns</p>\n",
       "</div>"
      ],
      "text/plain": [
       "      Material Quantity (gm)  Additive Catalyst (gm)  Ash Component (gm)  \\\n",
       "0                     486.42                  180.60               21.26   \n",
       "1                     133.32                  260.14              185.60   \n",
       "2                     559.97                    2.84              111.76   \n",
       "3                     391.43                  351.05               76.39   \n",
       "4                     394.78                  352.61              194.35   \n",
       "...                      ...                     ...                 ...   \n",
       "6134                  188.78                  162.30              142.65   \n",
       "6135                  349.87                  291.45               77.82   \n",
       "6136                  358.29                   22.70               17.99   \n",
       "6137                  445.25                  275.59              178.86   \n",
       "6138                  560.23                  266.56              167.14   \n",
       "\n",
       "      Water Mix (ml)  Plasticizer (gm)  Moderate Aggregator  \\\n",
       "0             201.66             16.11              1151.17   \n",
       "1             175.99              6.27              1090.57   \n",
       "2             295.23             11.95              1024.93   \n",
       "3             299.14             19.00              1134.88   \n",
       "4             235.54             17.02              1098.24   \n",
       "...              ...               ...                  ...   \n",
       "6134          163.66             15.98              1003.82   \n",
       "6135          188.26             25.82               925.10   \n",
       "6136          208.58             34.91              1081.07   \n",
       "6137          191.77             18.07               865.15   \n",
       "6138          175.49             10.63              1165.87   \n",
       "\n",
       "      Refined Aggregator  Formulation Duration (hrs)  Compression Strength MPa  \n",
       "0                 708.50                      344.43                     79.89  \n",
       "1                1010.25                       28.86                     59.80  \n",
       "2                 810.69                      237.68                     77.86  \n",
       "3                 881.34                      208.81                     71.74  \n",
       "4                 781.01                      266.84                     76.07  \n",
       "...                  ...                         ...                       ...  \n",
       "6134             1002.47                      357.91                     50.61  \n",
       "6135             1005.31                      104.20                     54.24  \n",
       "6136              792.44                      302.76                     56.57  \n",
       "6137              833.10                      374.63                     58.21  \n",
       "6138              894.53                      360.96                     58.96  \n",
       "\n",
       "[6139 rows x 9 columns]"
      ]
     },
     "execution_count": 3,
     "metadata": {},
     "output_type": "execute_result"
    }
   ],
   "source": [
    "data"
   ]
  },
  {
   "cell_type": "markdown",
   "id": "962f7b92",
   "metadata": {},
   "source": [
    "# Checking for missing values:"
   ]
  },
  {
   "cell_type": "code",
   "execution_count": 4,
   "id": "dadb8a8a",
   "metadata": {},
   "outputs": [],
   "source": [
    "#Check for missing values\n",
    "missing_values = data.isnull().sum()"
   ]
  },
  {
   "cell_type": "code",
   "execution_count": 5,
   "id": "209dcf12",
   "metadata": {},
   "outputs": [
    {
     "data": {
      "text/plain": [
       "Material Quantity (gm)        109\n",
       "Additive Catalyst (gm)        109\n",
       "Ash Component (gm)            109\n",
       "Water Mix (ml)                109\n",
       "Plasticizer (gm)              109\n",
       "Moderate Aggregator           109\n",
       "Refined Aggregator            109\n",
       "Formulation Duration (hrs)    109\n",
       "Compression Strength MPa        0\n",
       "dtype: int64"
      ]
     },
     "execution_count": 5,
     "metadata": {},
     "output_type": "execute_result"
    }
   ],
   "source": [
    "missing_values"
   ]
  },
  {
   "cell_type": "markdown",
   "id": "60eb1784",
   "metadata": {},
   "source": [
    "# Remove rows with any missing values"
   ]
  },
  {
   "cell_type": "code",
   "execution_count": 6,
   "id": "45c9704b",
   "metadata": {},
   "outputs": [],
   "source": [
    "# Remove rows with any missing values\n",
    "data.dropna(inplace=True)"
   ]
  },
  {
   "cell_type": "code",
   "execution_count": 7,
   "id": "094b4295",
   "metadata": {},
   "outputs": [
    {
     "data": {
      "text/plain": [
       "Material Quantity (gm)        0\n",
       "Additive Catalyst (gm)        0\n",
       "Ash Component (gm)            0\n",
       "Water Mix (ml)                0\n",
       "Plasticizer (gm)              0\n",
       "Moderate Aggregator           0\n",
       "Refined Aggregator            0\n",
       "Formulation Duration (hrs)    0\n",
       "Compression Strength MPa      0\n",
       "dtype: int64"
      ]
     },
     "execution_count": 7,
     "metadata": {},
     "output_type": "execute_result"
    }
   ],
   "source": [
    "data.isnull().sum()"
   ]
  },
  {
   "cell_type": "markdown",
   "id": "3cdfc367",
   "metadata": {},
   "source": [
    "# Number of rows left after removing missing values in rows"
   ]
  },
  {
   "cell_type": "code",
   "execution_count": 8,
   "id": "47ac7666",
   "metadata": {},
   "outputs": [
    {
     "data": {
      "text/plain": [
       "(6030, 9)"
      ]
     },
     "execution_count": 8,
     "metadata": {},
     "output_type": "execute_result"
    }
   ],
   "source": [
    "data.shape"
   ]
  },
  {
   "cell_type": "markdown",
   "id": "82ce3892",
   "metadata": {},
   "source": [
    "# Identifying outliers in each numerical column using Z-scores or IQR.\n",
    "Handle outliers by removing or transforming them, depending on the nature of the data."
   ]
  },
  {
   "cell_type": "code",
   "execution_count": 9,
   "id": "14ddce49",
   "metadata": {},
   "outputs": [],
   "source": [
    "from scipy import stats\n",
    "import numpy as np\n",
    "\n",
    "# Specify the Z-score threshold (e.g., 3 standard deviations)\n",
    "z_threshold = 3\n",
    "\n",
    "# Calculate Z-scores for each numerical column\n",
    "z_scores = np.abs(stats.zscore(data.select_dtypes(include='number')))\n",
    "\n",
    "# Create a boolean mask to identify outliers\n",
    "outlier_mask = z_scores > z_threshold\n",
    "\n",
    "# Remove outliers or handle them as needed\n",
    "cleaned_df = data[~outlier_mask.any(axis=1)]\n"
   ]
  },
  {
   "cell_type": "code",
   "execution_count": 10,
   "id": "f0be33a8",
   "metadata": {},
   "outputs": [
    {
     "data": {
      "text/html": [
       "<div>\n",
       "<style scoped>\n",
       "    .dataframe tbody tr th:only-of-type {\n",
       "        vertical-align: middle;\n",
       "    }\n",
       "\n",
       "    .dataframe tbody tr th {\n",
       "        vertical-align: top;\n",
       "    }\n",
       "\n",
       "    .dataframe thead th {\n",
       "        text-align: right;\n",
       "    }\n",
       "</style>\n",
       "<table border=\"1\" class=\"dataframe\">\n",
       "  <thead>\n",
       "    <tr style=\"text-align: right;\">\n",
       "      <th></th>\n",
       "      <th>Material Quantity (gm)</th>\n",
       "      <th>Additive Catalyst (gm)</th>\n",
       "      <th>Ash Component (gm)</th>\n",
       "      <th>Water Mix (ml)</th>\n",
       "      <th>Plasticizer (gm)</th>\n",
       "      <th>Moderate Aggregator</th>\n",
       "      <th>Refined Aggregator</th>\n",
       "      <th>Formulation Duration (hrs)</th>\n",
       "      <th>Compression Strength MPa</th>\n",
       "    </tr>\n",
       "  </thead>\n",
       "  <tbody>\n",
       "    <tr>\n",
       "      <th>0</th>\n",
       "      <td>486.42</td>\n",
       "      <td>180.60</td>\n",
       "      <td>21.26</td>\n",
       "      <td>201.66</td>\n",
       "      <td>16.11</td>\n",
       "      <td>1151.17</td>\n",
       "      <td>708.50</td>\n",
       "      <td>344.43</td>\n",
       "      <td>79.89</td>\n",
       "    </tr>\n",
       "    <tr>\n",
       "      <th>1</th>\n",
       "      <td>133.32</td>\n",
       "      <td>260.14</td>\n",
       "      <td>185.60</td>\n",
       "      <td>175.99</td>\n",
       "      <td>6.27</td>\n",
       "      <td>1090.57</td>\n",
       "      <td>1010.25</td>\n",
       "      <td>28.86</td>\n",
       "      <td>59.80</td>\n",
       "    </tr>\n",
       "    <tr>\n",
       "      <th>2</th>\n",
       "      <td>559.97</td>\n",
       "      <td>2.84</td>\n",
       "      <td>111.76</td>\n",
       "      <td>295.23</td>\n",
       "      <td>11.95</td>\n",
       "      <td>1024.93</td>\n",
       "      <td>810.69</td>\n",
       "      <td>237.68</td>\n",
       "      <td>77.86</td>\n",
       "    </tr>\n",
       "    <tr>\n",
       "      <th>3</th>\n",
       "      <td>391.43</td>\n",
       "      <td>351.05</td>\n",
       "      <td>76.39</td>\n",
       "      <td>299.14</td>\n",
       "      <td>19.00</td>\n",
       "      <td>1134.88</td>\n",
       "      <td>881.34</td>\n",
       "      <td>208.81</td>\n",
       "      <td>71.74</td>\n",
       "    </tr>\n",
       "    <tr>\n",
       "      <th>4</th>\n",
       "      <td>394.78</td>\n",
       "      <td>352.61</td>\n",
       "      <td>194.35</td>\n",
       "      <td>235.54</td>\n",
       "      <td>17.02</td>\n",
       "      <td>1098.24</td>\n",
       "      <td>781.01</td>\n",
       "      <td>266.84</td>\n",
       "      <td>76.07</td>\n",
       "    </tr>\n",
       "    <tr>\n",
       "      <th>...</th>\n",
       "      <td>...</td>\n",
       "      <td>...</td>\n",
       "      <td>...</td>\n",
       "      <td>...</td>\n",
       "      <td>...</td>\n",
       "      <td>...</td>\n",
       "      <td>...</td>\n",
       "      <td>...</td>\n",
       "      <td>...</td>\n",
       "    </tr>\n",
       "    <tr>\n",
       "      <th>6134</th>\n",
       "      <td>188.78</td>\n",
       "      <td>162.30</td>\n",
       "      <td>142.65</td>\n",
       "      <td>163.66</td>\n",
       "      <td>15.98</td>\n",
       "      <td>1003.82</td>\n",
       "      <td>1002.47</td>\n",
       "      <td>357.91</td>\n",
       "      <td>50.61</td>\n",
       "    </tr>\n",
       "    <tr>\n",
       "      <th>6135</th>\n",
       "      <td>349.87</td>\n",
       "      <td>291.45</td>\n",
       "      <td>77.82</td>\n",
       "      <td>188.26</td>\n",
       "      <td>25.82</td>\n",
       "      <td>925.10</td>\n",
       "      <td>1005.31</td>\n",
       "      <td>104.20</td>\n",
       "      <td>54.24</td>\n",
       "    </tr>\n",
       "    <tr>\n",
       "      <th>6136</th>\n",
       "      <td>358.29</td>\n",
       "      <td>22.70</td>\n",
       "      <td>17.99</td>\n",
       "      <td>208.58</td>\n",
       "      <td>34.91</td>\n",
       "      <td>1081.07</td>\n",
       "      <td>792.44</td>\n",
       "      <td>302.76</td>\n",
       "      <td>56.57</td>\n",
       "    </tr>\n",
       "    <tr>\n",
       "      <th>6137</th>\n",
       "      <td>445.25</td>\n",
       "      <td>275.59</td>\n",
       "      <td>178.86</td>\n",
       "      <td>191.77</td>\n",
       "      <td>18.07</td>\n",
       "      <td>865.15</td>\n",
       "      <td>833.10</td>\n",
       "      <td>374.63</td>\n",
       "      <td>58.21</td>\n",
       "    </tr>\n",
       "    <tr>\n",
       "      <th>6138</th>\n",
       "      <td>560.23</td>\n",
       "      <td>266.56</td>\n",
       "      <td>167.14</td>\n",
       "      <td>175.49</td>\n",
       "      <td>10.63</td>\n",
       "      <td>1165.87</td>\n",
       "      <td>894.53</td>\n",
       "      <td>360.96</td>\n",
       "      <td>58.96</td>\n",
       "    </tr>\n",
       "  </tbody>\n",
       "</table>\n",
       "<p>6014 rows × 9 columns</p>\n",
       "</div>"
      ],
      "text/plain": [
       "      Material Quantity (gm)  Additive Catalyst (gm)  Ash Component (gm)  \\\n",
       "0                     486.42                  180.60               21.26   \n",
       "1                     133.32                  260.14              185.60   \n",
       "2                     559.97                    2.84              111.76   \n",
       "3                     391.43                  351.05               76.39   \n",
       "4                     394.78                  352.61              194.35   \n",
       "...                      ...                     ...                 ...   \n",
       "6134                  188.78                  162.30              142.65   \n",
       "6135                  349.87                  291.45               77.82   \n",
       "6136                  358.29                   22.70               17.99   \n",
       "6137                  445.25                  275.59              178.86   \n",
       "6138                  560.23                  266.56              167.14   \n",
       "\n",
       "      Water Mix (ml)  Plasticizer (gm)  Moderate Aggregator  \\\n",
       "0             201.66             16.11              1151.17   \n",
       "1             175.99              6.27              1090.57   \n",
       "2             295.23             11.95              1024.93   \n",
       "3             299.14             19.00              1134.88   \n",
       "4             235.54             17.02              1098.24   \n",
       "...              ...               ...                  ...   \n",
       "6134          163.66             15.98              1003.82   \n",
       "6135          188.26             25.82               925.10   \n",
       "6136          208.58             34.91              1081.07   \n",
       "6137          191.77             18.07               865.15   \n",
       "6138          175.49             10.63              1165.87   \n",
       "\n",
       "      Refined Aggregator  Formulation Duration (hrs)  Compression Strength MPa  \n",
       "0                 708.50                      344.43                     79.89  \n",
       "1                1010.25                       28.86                     59.80  \n",
       "2                 810.69                      237.68                     77.86  \n",
       "3                 881.34                      208.81                     71.74  \n",
       "4                 781.01                      266.84                     76.07  \n",
       "...                  ...                         ...                       ...  \n",
       "6134             1002.47                      357.91                     50.61  \n",
       "6135             1005.31                      104.20                     54.24  \n",
       "6136              792.44                      302.76                     56.57  \n",
       "6137              833.10                      374.63                     58.21  \n",
       "6138              894.53                      360.96                     58.96  \n",
       "\n",
       "[6014 rows x 9 columns]"
      ]
     },
     "execution_count": 10,
     "metadata": {},
     "output_type": "execute_result"
    }
   ],
   "source": [
    "cleaned_df"
   ]
  },
  {
   "cell_type": "code",
   "execution_count": 11,
   "id": "87400f6a",
   "metadata": {},
   "outputs": [
    {
     "data": {
      "text/plain": [
       "(6014, 9)"
      ]
     },
     "execution_count": 11,
     "metadata": {},
     "output_type": "execute_result"
    }
   ],
   "source": [
    "cleaned_df.shape"
   ]
  },
  {
   "cell_type": "markdown",
   "id": "721d5800",
   "metadata": {},
   "source": [
    "# Applying standardization (Z-score normalization) to numerical columns to have a mean of 0 and a standard deviation of 1. This ensures consistent scales:"
   ]
  },
  {
   "cell_type": "code",
   "execution_count": 12,
   "id": "7bff6ec1",
   "metadata": {},
   "outputs": [
    {
     "name": "stderr",
     "output_type": "stream",
     "text": [
      "C:\\Users\\sapna\\AppData\\Local\\Temp\\ipykernel_268\\869492051.py:13: SettingWithCopyWarning: \n",
      "A value is trying to be set on a copy of a slice from a DataFrame.\n",
      "Try using .loc[row_indexer,col_indexer] = value instead\n",
      "\n",
      "See the caveats in the documentation: https://pandas.pydata.org/pandas-docs/stable/user_guide/indexing.html#returning-a-view-versus-a-copy\n",
      "  cleaned_df[numerical_columns.columns] = scaled_numerical_columns\n"
     ]
    }
   ],
   "source": [
    "from sklearn.preprocessing import StandardScaler\n",
    "\n",
    "# Select the numerical columns for standardization\n",
    "numerical_columns = cleaned_df.select_dtypes(include='number')\n",
    "\n",
    "# Initialize the StandardScaler\n",
    "scaler = StandardScaler()\n",
    "\n",
    "# Fit the scaler to your data and transform the numerical columns\n",
    "scaled_numerical_columns = scaler.fit_transform(numerical_columns)\n",
    "\n",
    "# Replace the original numerical columns with the scaled ones\n",
    "cleaned_df[numerical_columns.columns] = scaled_numerical_columns\n"
   ]
  },
  {
   "cell_type": "code",
   "execution_count": 13,
   "id": "c5b05ab7",
   "metadata": {},
   "outputs": [
    {
     "data": {
      "text/html": [
       "<div>\n",
       "<style scoped>\n",
       "    .dataframe tbody tr th:only-of-type {\n",
       "        vertical-align: middle;\n",
       "    }\n",
       "\n",
       "    .dataframe tbody tr th {\n",
       "        vertical-align: top;\n",
       "    }\n",
       "\n",
       "    .dataframe thead th {\n",
       "        text-align: right;\n",
       "    }\n",
       "</style>\n",
       "<table border=\"1\" class=\"dataframe\">\n",
       "  <thead>\n",
       "    <tr style=\"text-align: right;\">\n",
       "      <th></th>\n",
       "      <th>Material Quantity (gm)</th>\n",
       "      <th>Additive Catalyst (gm)</th>\n",
       "      <th>Ash Component (gm)</th>\n",
       "      <th>Water Mix (ml)</th>\n",
       "      <th>Plasticizer (gm)</th>\n",
       "      <th>Moderate Aggregator</th>\n",
       "      <th>Refined Aggregator</th>\n",
       "      <th>Formulation Duration (hrs)</th>\n",
       "      <th>Compression Strength MPa</th>\n",
       "    </tr>\n",
       "  </thead>\n",
       "  <tbody>\n",
       "    <tr>\n",
       "      <th>0</th>\n",
       "      <td>0.683274</td>\n",
       "      <td>-0.121078</td>\n",
       "      <td>-1.225061</td>\n",
       "      <td>-0.543975</td>\n",
       "      <td>-0.135457</td>\n",
       "      <td>1.558632</td>\n",
       "      <td>-0.914859</td>\n",
       "      <td>1.510773</td>\n",
       "      <td>1.437657</td>\n",
       "    </tr>\n",
       "    <tr>\n",
       "      <th>1</th>\n",
       "      <td>-1.672649</td>\n",
       "      <td>0.475142</td>\n",
       "      <td>0.991814</td>\n",
       "      <td>-1.161318</td>\n",
       "      <td>-0.978425</td>\n",
       "      <td>0.939014</td>\n",
       "      <td>1.758491</td>\n",
       "      <td>-1.299536</td>\n",
       "      <td>0.180424</td>\n",
       "    </tr>\n",
       "    <tr>\n",
       "      <th>2</th>\n",
       "      <td>1.174008</td>\n",
       "      <td>-1.453541</td>\n",
       "      <td>-0.004255</td>\n",
       "      <td>1.706309</td>\n",
       "      <td>-0.491834</td>\n",
       "      <td>0.267863</td>\n",
       "      <td>-0.009508</td>\n",
       "      <td>0.560111</td>\n",
       "      <td>1.310619</td>\n",
       "    </tr>\n",
       "    <tr>\n",
       "      <th>3</th>\n",
       "      <td>0.049490</td>\n",
       "      <td>1.156590</td>\n",
       "      <td>-0.481381</td>\n",
       "      <td>1.800342</td>\n",
       "      <td>0.112121</td>\n",
       "      <td>1.392071</td>\n",
       "      <td>0.616414</td>\n",
       "      <td>0.303009</td>\n",
       "      <td>0.927629</td>\n",
       "    </tr>\n",
       "    <tr>\n",
       "      <th>4</th>\n",
       "      <td>0.071842</td>\n",
       "      <td>1.168283</td>\n",
       "      <td>1.109848</td>\n",
       "      <td>0.270812</td>\n",
       "      <td>-0.057500</td>\n",
       "      <td>1.017438</td>\n",
       "      <td>-0.272458</td>\n",
       "      <td>0.819795</td>\n",
       "      <td>1.198601</td>\n",
       "    </tr>\n",
       "    <tr>\n",
       "      <th>...</th>\n",
       "      <td>...</td>\n",
       "      <td>...</td>\n",
       "      <td>...</td>\n",
       "      <td>...</td>\n",
       "      <td>...</td>\n",
       "      <td>...</td>\n",
       "      <td>...</td>\n",
       "      <td>...</td>\n",
       "      <td>...</td>\n",
       "    </tr>\n",
       "    <tr>\n",
       "      <th>6134</th>\n",
       "      <td>-1.302613</td>\n",
       "      <td>-0.258252</td>\n",
       "      <td>0.412437</td>\n",
       "      <td>-1.457845</td>\n",
       "      <td>-0.146594</td>\n",
       "      <td>0.052020</td>\n",
       "      <td>1.689564</td>\n",
       "      <td>1.630820</td>\n",
       "      <td>-0.394686</td>\n",
       "    </tr>\n",
       "    <tr>\n",
       "      <th>6135</th>\n",
       "      <td>-0.227803</td>\n",
       "      <td>0.709837</td>\n",
       "      <td>-0.462091</td>\n",
       "      <td>-0.866234</td>\n",
       "      <td>0.696373</td>\n",
       "      <td>-0.752870</td>\n",
       "      <td>1.714725</td>\n",
       "      <td>-0.628596</td>\n",
       "      <td>-0.167521</td>\n",
       "    </tr>\n",
       "    <tr>\n",
       "      <th>6136</th>\n",
       "      <td>-0.171623</td>\n",
       "      <td>-1.304673</td>\n",
       "      <td>-1.269172</td>\n",
       "      <td>-0.377554</td>\n",
       "      <td>1.475090</td>\n",
       "      <td>0.841879</td>\n",
       "      <td>-0.171194</td>\n",
       "      <td>1.139681</td>\n",
       "      <td>-0.021709</td>\n",
       "    </tr>\n",
       "    <tr>\n",
       "      <th>6137</th>\n",
       "      <td>0.408583</td>\n",
       "      <td>0.590953</td>\n",
       "      <td>0.900894</td>\n",
       "      <td>-0.781821</td>\n",
       "      <td>0.032451</td>\n",
       "      <td>-1.365842</td>\n",
       "      <td>0.189033</td>\n",
       "      <td>1.779720</td>\n",
       "      <td>0.080922</td>\n",
       "    </tr>\n",
       "    <tr>\n",
       "      <th>6138</th>\n",
       "      <td>1.175743</td>\n",
       "      <td>0.523265</td>\n",
       "      <td>0.742797</td>\n",
       "      <td>-1.173342</td>\n",
       "      <td>-0.604915</td>\n",
       "      <td>1.708936</td>\n",
       "      <td>0.733271</td>\n",
       "      <td>1.657981</td>\n",
       "      <td>0.127857</td>\n",
       "    </tr>\n",
       "  </tbody>\n",
       "</table>\n",
       "<p>6014 rows × 9 columns</p>\n",
       "</div>"
      ],
      "text/plain": [
       "      Material Quantity (gm)  Additive Catalyst (gm)  Ash Component (gm)  \\\n",
       "0                   0.683274               -0.121078           -1.225061   \n",
       "1                  -1.672649                0.475142            0.991814   \n",
       "2                   1.174008               -1.453541           -0.004255   \n",
       "3                   0.049490                1.156590           -0.481381   \n",
       "4                   0.071842                1.168283            1.109848   \n",
       "...                      ...                     ...                 ...   \n",
       "6134               -1.302613               -0.258252            0.412437   \n",
       "6135               -0.227803                0.709837           -0.462091   \n",
       "6136               -0.171623               -1.304673           -1.269172   \n",
       "6137                0.408583                0.590953            0.900894   \n",
       "6138                1.175743                0.523265            0.742797   \n",
       "\n",
       "      Water Mix (ml)  Plasticizer (gm)  Moderate Aggregator  \\\n",
       "0          -0.543975         -0.135457             1.558632   \n",
       "1          -1.161318         -0.978425             0.939014   \n",
       "2           1.706309         -0.491834             0.267863   \n",
       "3           1.800342          0.112121             1.392071   \n",
       "4           0.270812         -0.057500             1.017438   \n",
       "...              ...               ...                  ...   \n",
       "6134       -1.457845         -0.146594             0.052020   \n",
       "6135       -0.866234          0.696373            -0.752870   \n",
       "6136       -0.377554          1.475090             0.841879   \n",
       "6137       -0.781821          0.032451            -1.365842   \n",
       "6138       -1.173342         -0.604915             1.708936   \n",
       "\n",
       "      Refined Aggregator  Formulation Duration (hrs)  Compression Strength MPa  \n",
       "0              -0.914859                    1.510773                  1.437657  \n",
       "1               1.758491                   -1.299536                  0.180424  \n",
       "2              -0.009508                    0.560111                  1.310619  \n",
       "3               0.616414                    0.303009                  0.927629  \n",
       "4              -0.272458                    0.819795                  1.198601  \n",
       "...                  ...                         ...                       ...  \n",
       "6134            1.689564                    1.630820                 -0.394686  \n",
       "6135            1.714725                   -0.628596                 -0.167521  \n",
       "6136           -0.171194                    1.139681                 -0.021709  \n",
       "6137            0.189033                    1.779720                  0.080922  \n",
       "6138            0.733271                    1.657981                  0.127857  \n",
       "\n",
       "[6014 rows x 9 columns]"
      ]
     },
     "execution_count": 13,
     "metadata": {},
     "output_type": "execute_result"
    }
   ],
   "source": [
    "cleaned_df"
   ]
  },
  {
   "cell_type": "markdown",
   "id": "0e986c34",
   "metadata": {},
   "source": [
    "# The column \"Formulation Duration (hrs)\" feature is right-skewed, we can consider using the Box-Cox transformation to make it more closely follow a normal distribution. The Box-Cox transformation is particularly useful for addressing right-skewed data, as it can help normalize the distribution and meet the assumptions of some statistical analyses that require normally distributed data.¶"
   ]
  },
  {
   "cell_type": "code",
   "execution_count": 14,
   "id": "960b84fd",
   "metadata": {},
   "outputs": [
    {
     "name": "stdout",
     "output_type": "stream",
     "text": [
      "Minimum value: -1.4118345195294844\n"
     ]
    }
   ],
   "source": [
    "#Certainly, we can find the minimum value in a specific column using Python and the Pandas library\n",
    "\n",
    "# Find the minimum value in the \"Formulation Duration (hrs)\" column\n",
    "min_value = cleaned_df[\"Formulation Duration (hrs)\"].min()\n",
    "\n",
    "# Print the minimum value\n",
    "print(\"Minimum value:\", min_value)"
   ]
  },
  {
   "cell_type": "code",
   "execution_count": 15,
   "id": "ccd4f018",
   "metadata": {},
   "outputs": [
    {
     "name": "stderr",
     "output_type": "stream",
     "text": [
      "C:\\Users\\sapna\\AppData\\Local\\Temp\\ipykernel_268\\3502222793.py:4: SettingWithCopyWarning: \n",
      "A value is trying to be set on a copy of a slice from a DataFrame.\n",
      "Try using .loc[row_indexer,col_indexer] = value instead\n",
      "\n",
      "See the caveats in the documentation: https://pandas.pydata.org/pandas-docs/stable/user_guide/indexing.html#returning-a-view-versus-a-copy\n",
      "  cleaned_df[\"Formulation Duration (hrs)\"] = cleaned_df[\"Formulation Duration (hrs)\"] + constant\n"
     ]
    }
   ],
   "source": [
    "#Since the minimum value in the \"Formulation Duration (hrs)\" column is 16.25, we can add a small positive constant to all the values in the column to make them positive, and then apply the Box-Cox transformation if needed\n",
    "# Add a small constant to make the data positive (e.g., 0.01)\n",
    "constant = 0.01\n",
    "cleaned_df[\"Formulation Duration (hrs)\"] = cleaned_df[\"Formulation Duration (hrs)\"] + constant\n"
   ]
  },
  {
   "cell_type": "code",
   "execution_count": 16,
   "id": "3f5fd6ca",
   "metadata": {},
   "outputs": [
    {
     "data": {
      "image/png": "[encoded data removed]",
      "text/plain": [
       "<Figure size 640x480 with 1 Axes>"
      ]
     },
     "metadata": {},
     "output_type": "display_data"
    }
   ],
   "source": [
    "import matplotlib.pyplot as plt\n",
    "import seaborn as sns\n",
    "sns.histplot(data, kde=True)\n",
    "plt.xlabel(\"Formulation Duration (hrs)\")\n",
    "plt.ylabel(\"Frquency\")\n",
    "plt.title(\"Distribution of column\")\n",
    "plt.show()"
   ]
  },
  {
   "cell_type": "markdown",
   "id": "b29ba5f3",
   "metadata": {},
   "source": [
    "# Feature selection process of dataset:"
   ]
  },
  {
   "cell_type": "code",
   "execution_count": 17,
   "id": "d03bf2ab",
   "metadata": {},
   "outputs": [
    {
     "name": "stdout",
     "output_type": "stream",
     "text": [
      "Compression Strength MPa      1.000000\n",
      "Formulation Duration (hrs)    0.261609\n",
      "Plasticizer (gm)              0.199617\n",
      "Additive Catalyst (gm)        0.182104\n",
      "Material Quantity (gm)        0.124994\n",
      "Ash Component (gm)            0.083022\n",
      "Moderate Aggregator           0.034697\n",
      "Water Mix (ml)                0.026029\n",
      "Refined Aggregator            0.008912\n",
      "Name: Compression Strength MPa, dtype: float64\n"
     ]
    }
   ],
   "source": [
    "import pandas as pd\n",
    "# Calculate the correlation matrix\n",
    "correlation_matrix = cleaned_df.corr()\n",
    "\n",
    "# Extract the correlation with the target variable\n",
    "correlation_with_target = correlation_matrix[\"Compression Strength MPa\"].abs()\n",
    "\n",
    "# Sort the features by correlation\n",
    "sorted_correlation = correlation_with_target.sort_values(ascending=False)\n",
    "\n",
    "# Select the top N features\n",
    "N = 9\n",
    "selected_features = sorted_correlation.head(N)\n",
    "\n",
    "# Print the selected features\n",
    "print(selected_features)\n"
   ]
  },
  {
   "cell_type": "code",
   "execution_count": 18,
   "id": "6e4ac721",
   "metadata": {},
   "outputs": [
    {
     "data": {
      "image/png": "[encoded data removed]",
      "text/plain": [
       "<Figure size 800x300 with 2 Axes>"
      ]
     },
     "metadata": {},
     "output_type": "display_data"
    }
   ],
   "source": [
    "correlation_matrix = cleaned_df.corr()\n",
    "plt.figure(figsize=(8, 3))\n",
    "sns.heatmap(correlation_matrix, annot=True, cmap='plasma', fmt='.2f')\n",
    "plt.title('Correlation Matrix')\n",
    "plt.show()"
   ]
  },
  {
   "cell_type": "markdown",
   "id": "6601dd68",
   "metadata": {},
   "source": [
    "# Plot the co-relation of other features with Compression Strength:\n",
    "The first plot creates a bar plot showing the correlation values of each feature with Compression Strength.\n",
    "\n",
    "The second plot generates a heatmap of the correlation matrix focusing on the correlation of features with Compression Strength."
   ]
  },
  {
   "cell_type": "code",
   "execution_count": 19,
   "id": "eb739ff1",
   "metadata": {},
   "outputs": [
    {
     "data": {
      "image/png": "[encoded data removed]",
      "text/plain": [
       "<Figure size 800x500 with 1 Axes>"
      ]
     },
     "metadata": {},
     "output_type": "display_data"
    }
   ],
   "source": [
    "# Calculate correlations between independent features and Compression Strength\n",
    "correlation_with_compression_strength = cleaned_df.drop(columns='Compression Strength MPa').corrwith(cleaned_df['Compression Strength MPa'])\n",
    "\n",
    "# Create a bar plot to visualize correlations\n",
    "plt.figure(figsize=(8, 5))\n",
    "correlation_with_compression_strength.plot(kind='bar', color='skyblue')\n",
    "plt.title('Correlation of Features with Compression Strength MPa')\n",
    "plt.xlabel('Features')\n",
    "plt.ylabel('Correlation')\n",
    "plt.xticks(rotation=90, ha='right')\n",
    "plt.tight_layout()\n",
    "plt.show()"
   ]
  },
  {
   "cell_type": "code",
   "execution_count": 20,
   "id": "776806db",
   "metadata": {},
   "outputs": [
    {
     "data": {
      "image/png": "[encoded data removed]",
      "text/plain": [
       "<Figure size 800x500 with 2 Axes>"
      ]
     },
     "metadata": {},
     "output_type": "display_data"
    }
   ],
   "source": [
    "# Create a heatmap for correlation matrix between features and Compression Strength\n",
    "plt.figure(figsize=(8, 5))\n",
    "corr_matrix = cleaned_df.corr()\n",
    "sns.heatmap(pd.DataFrame(corr_matrix['Compression Strength MPa']), annot=True, cmap='rainbow', fmt='.2f')\n",
    "plt.title('Correlation Heatmap with Compression Strength Mpa')\n",
    "plt.tight_layout()\n",
    "plt.show()"
   ]
  },
  {
   "cell_type": "markdown",
   "id": "a87e3b20",
   "metadata": {},
   "source": [
    "# Selecting important features for modelling:\n",
    "For modeling is a crucial step that involves identifying which features have the most significant impact on the target variable (in this case, 'Compression Strength MPa').\n",
    "\n",
    "There are several methods to determine feature importance. Here are a few approaches we can consider:"
   ]
  },
  {
   "cell_type": "markdown",
   "id": "cdb6d342",
   "metadata": {},
   "source": [
    "# 1. Correlation Analysis:\n",
    "Calculate the correlation coefficients between each feature and the target variable. Features with higher absolute correlation values (positive or negative) are generally more important."
   ]
  },
  {
   "cell_type": "code",
   "execution_count": 21,
   "id": "f167c600",
   "metadata": {},
   "outputs": [
    {
     "name": "stdout",
     "output_type": "stream",
     "text": [
      "Compression Strength MPa      1.000000\n",
      "Formulation Duration (hrs)    0.261609\n",
      "Plasticizer (gm)              0.199617\n",
      "Additive Catalyst (gm)        0.182104\n",
      "Material Quantity (gm)        0.124994\n",
      "Ash Component (gm)            0.083022\n",
      "Moderate Aggregator           0.034697\n",
      "Water Mix (ml)                0.026029\n",
      "Refined Aggregator            0.008912\n",
      "Name: Compression Strength MPa, dtype: float64\n"
     ]
    }
   ],
   "source": [
    "correlation_matrix = cleaned_df.corr()\n",
    "correlation_with_target = correlation_matrix['Compression Strength MPa'].abs().sort_values(ascending=False)\n",
    "print(correlation_with_target)"
   ]
  },
  {
   "cell_type": "code",
   "execution_count": 22,
   "id": "173185ba",
   "metadata": {},
   "outputs": [
    {
     "data": {
      "text/html": [
       "<div>\n",
       "<style scoped>\n",
       "    .dataframe tbody tr th:only-of-type {\n",
       "        vertical-align: middle;\n",
       "    }\n",
       "\n",
       "    .dataframe tbody tr th {\n",
       "        vertical-align: top;\n",
       "    }\n",
       "\n",
       "    .dataframe thead th {\n",
       "        text-align: right;\n",
       "    }\n",
       "</style>\n",
       "<table border=\"1\" class=\"dataframe\">\n",
       "  <thead>\n",
       "    <tr style=\"text-align: right;\">\n",
       "      <th></th>\n",
       "      <th>Material Quantity (gm)</th>\n",
       "      <th>Additive Catalyst (gm)</th>\n",
       "      <th>Ash Component (gm)</th>\n",
       "      <th>Water Mix (ml)</th>\n",
       "      <th>Plasticizer (gm)</th>\n",
       "      <th>Moderate Aggregator</th>\n",
       "      <th>Refined Aggregator</th>\n",
       "      <th>Formulation Duration (hrs)</th>\n",
       "      <th>Compression Strength MPa</th>\n",
       "    </tr>\n",
       "  </thead>\n",
       "  <tbody>\n",
       "    <tr>\n",
       "      <th>0</th>\n",
       "      <td>0.683274</td>\n",
       "      <td>-0.121078</td>\n",
       "      <td>-1.225061</td>\n",
       "      <td>-0.543975</td>\n",
       "      <td>-0.135457</td>\n",
       "      <td>1.558632</td>\n",
       "      <td>-0.914859</td>\n",
       "      <td>1.520773</td>\n",
       "      <td>1.437657</td>\n",
       "    </tr>\n",
       "    <tr>\n",
       "      <th>1</th>\n",
       "      <td>-1.672649</td>\n",
       "      <td>0.475142</td>\n",
       "      <td>0.991814</td>\n",
       "      <td>-1.161318</td>\n",
       "      <td>-0.978425</td>\n",
       "      <td>0.939014</td>\n",
       "      <td>1.758491</td>\n",
       "      <td>-1.289536</td>\n",
       "      <td>0.180424</td>\n",
       "    </tr>\n",
       "    <tr>\n",
       "      <th>2</th>\n",
       "      <td>1.174008</td>\n",
       "      <td>-1.453541</td>\n",
       "      <td>-0.004255</td>\n",
       "      <td>1.706309</td>\n",
       "      <td>-0.491834</td>\n",
       "      <td>0.267863</td>\n",
       "      <td>-0.009508</td>\n",
       "      <td>0.570111</td>\n",
       "      <td>1.310619</td>\n",
       "    </tr>\n",
       "    <tr>\n",
       "      <th>3</th>\n",
       "      <td>0.049490</td>\n",
       "      <td>1.156590</td>\n",
       "      <td>-0.481381</td>\n",
       "      <td>1.800342</td>\n",
       "      <td>0.112121</td>\n",
       "      <td>1.392071</td>\n",
       "      <td>0.616414</td>\n",
       "      <td>0.313009</td>\n",
       "      <td>0.927629</td>\n",
       "    </tr>\n",
       "    <tr>\n",
       "      <th>4</th>\n",
       "      <td>0.071842</td>\n",
       "      <td>1.168283</td>\n",
       "      <td>1.109848</td>\n",
       "      <td>0.270812</td>\n",
       "      <td>-0.057500</td>\n",
       "      <td>1.017438</td>\n",
       "      <td>-0.272458</td>\n",
       "      <td>0.829795</td>\n",
       "      <td>1.198601</td>\n",
       "    </tr>\n",
       "    <tr>\n",
       "      <th>5</th>\n",
       "      <td>-0.921369</td>\n",
       "      <td>-1.285709</td>\n",
       "      <td>1.338901</td>\n",
       "      <td>-0.825350</td>\n",
       "      <td>-0.617765</td>\n",
       "      <td>0.588408</td>\n",
       "      <td>1.681147</td>\n",
       "      <td>0.900861</td>\n",
       "      <td>-0.326474</td>\n",
       "    </tr>\n",
       "    <tr>\n",
       "      <th>6</th>\n",
       "      <td>-0.350303</td>\n",
       "      <td>-0.763773</td>\n",
       "      <td>1.550957</td>\n",
       "      <td>0.845588</td>\n",
       "      <td>1.821186</td>\n",
       "      <td>1.189929</td>\n",
       "      <td>-0.911227</td>\n",
       "      <td>-1.172607</td>\n",
       "      <td>0.735509</td>\n",
       "    </tr>\n",
       "    <tr>\n",
       "      <th>7</th>\n",
       "      <td>1.021150</td>\n",
       "      <td>0.368026</td>\n",
       "      <td>-1.235043</td>\n",
       "      <td>1.743826</td>\n",
       "      <td>-0.089197</td>\n",
       "      <td>0.345980</td>\n",
       "      <td>0.110715</td>\n",
       "      <td>1.794440</td>\n",
       "      <td>-0.522349</td>\n",
       "    </tr>\n",
       "    <tr>\n",
       "      <th>8</th>\n",
       "      <td>1.228986</td>\n",
       "      <td>1.731972</td>\n",
       "      <td>1.535713</td>\n",
       "      <td>0.847993</td>\n",
       "      <td>-0.930451</td>\n",
       "      <td>0.252629</td>\n",
       "      <td>-0.160385</td>\n",
       "      <td>0.535380</td>\n",
       "      <td>0.325610</td>\n",
       "    </tr>\n",
       "    <tr>\n",
       "      <th>9</th>\n",
       "      <td>0.053293</td>\n",
       "      <td>0.375597</td>\n",
       "      <td>0.719190</td>\n",
       "      <td>0.708748</td>\n",
       "      <td>-1.210583</td>\n",
       "      <td>-1.367785</td>\n",
       "      <td>1.630560</td>\n",
       "      <td>-0.573445</td>\n",
       "      <td>0.821869</td>\n",
       "    </tr>\n",
       "  </tbody>\n",
       "</table>\n",
       "</div>"
      ],
      "text/plain": [
       "   Material Quantity (gm)  Additive Catalyst (gm)  Ash Component (gm)  \\\n",
       "0                0.683274               -0.121078           -1.225061   \n",
       "1               -1.672649                0.475142            0.991814   \n",
       "2                1.174008               -1.453541           -0.004255   \n",
       "3                0.049490                1.156590           -0.481381   \n",
       "4                0.071842                1.168283            1.109848   \n",
       "5               -0.921369               -1.285709            1.338901   \n",
       "6               -0.350303               -0.763773            1.550957   \n",
       "7                1.021150                0.368026           -1.235043   \n",
       "8                1.228986                1.731972            1.535713   \n",
       "9                0.053293                0.375597            0.719190   \n",
       "\n",
       "   Water Mix (ml)  Plasticizer (gm)  Moderate Aggregator  Refined Aggregator  \\\n",
       "0       -0.543975         -0.135457             1.558632           -0.914859   \n",
       "1       -1.161318         -0.978425             0.939014            1.758491   \n",
       "2        1.706309         -0.491834             0.267863           -0.009508   \n",
       "3        1.800342          0.112121             1.392071            0.616414   \n",
       "4        0.270812         -0.057500             1.017438           -0.272458   \n",
       "5       -0.825350         -0.617765             0.588408            1.681147   \n",
       "6        0.845588          1.821186             1.189929           -0.911227   \n",
       "7        1.743826         -0.089197             0.345980            0.110715   \n",
       "8        0.847993         -0.930451             0.252629           -0.160385   \n",
       "9        0.708748         -1.210583            -1.367785            1.630560   \n",
       "\n",
       "   Formulation Duration (hrs)  Compression Strength MPa  \n",
       "0                    1.520773                  1.437657  \n",
       "1                   -1.289536                  0.180424  \n",
       "2                    0.570111                  1.310619  \n",
       "3                    0.313009                  0.927629  \n",
       "4                    0.829795                  1.198601  \n",
       "5                    0.900861                 -0.326474  \n",
       "6                   -1.172607                  0.735509  \n",
       "7                    1.794440                 -0.522349  \n",
       "8                    0.535380                  0.325610  \n",
       "9                   -0.573445                  0.821869  "
      ]
     },
     "execution_count": 22,
     "metadata": {},
     "output_type": "execute_result"
    }
   ],
   "source": [
    "cleaned_df.head(10)"
   ]
  },
  {
   "cell_type": "code",
   "execution_count": 23,
   "id": "e2950128",
   "metadata": {},
   "outputs": [
    {
     "data": {
      "text/plain": [
       "(6014, 9)"
      ]
     },
     "execution_count": 23,
     "metadata": {},
     "output_type": "execute_result"
    }
   ],
   "source": [
    "cleaned_df.shape"
   ]
  },
  {
   "cell_type": "markdown",
   "id": "ca5bfc92",
   "metadata": {},
   "source": [
    "# 2. using Random Forest for feature importance¶\n",
    "separate independent variable (X) and dependent variable(y):"
   ]
  },
  {
   "cell_type": "code",
   "execution_count": 24,
   "id": "260431ec",
   "metadata": {},
   "outputs": [],
   "source": [
    "Independent_variable= cleaned_df.drop('Compression Strength MPa',axis=1)"
   ]
  },
  {
   "cell_type": "code",
   "execution_count": 25,
   "id": "df5d339c",
   "metadata": {},
   "outputs": [],
   "source": [
    "X = Independent_variable"
   ]
  },
  {
   "cell_type": "code",
   "execution_count": 26,
   "id": "37f8764d",
   "metadata": {},
   "outputs": [
    {
     "data": {
      "text/html": [
       "<div>\n",
       "<style scoped>\n",
       "    .dataframe tbody tr th:only-of-type {\n",
       "        vertical-align: middle;\n",
       "    }\n",
       "\n",
       "    .dataframe tbody tr th {\n",
       "        vertical-align: top;\n",
       "    }\n",
       "\n",
       "    .dataframe thead th {\n",
       "        text-align: right;\n",
       "    }\n",
       "</style>\n",
       "<table border=\"1\" class=\"dataframe\">\n",
       "  <thead>\n",
       "    <tr style=\"text-align: right;\">\n",
       "      <th></th>\n",
       "      <th>Material Quantity (gm)</th>\n",
       "      <th>Additive Catalyst (gm)</th>\n",
       "      <th>Ash Component (gm)</th>\n",
       "      <th>Water Mix (ml)</th>\n",
       "      <th>Plasticizer (gm)</th>\n",
       "      <th>Moderate Aggregator</th>\n",
       "      <th>Refined Aggregator</th>\n",
       "      <th>Formulation Duration (hrs)</th>\n",
       "    </tr>\n",
       "  </thead>\n",
       "  <tbody>\n",
       "    <tr>\n",
       "      <th>0</th>\n",
       "      <td>0.683274</td>\n",
       "      <td>-0.121078</td>\n",
       "      <td>-1.225061</td>\n",
       "      <td>-0.543975</td>\n",
       "      <td>-0.135457</td>\n",
       "      <td>1.558632</td>\n",
       "      <td>-0.914859</td>\n",
       "      <td>1.520773</td>\n",
       "    </tr>\n",
       "    <tr>\n",
       "      <th>1</th>\n",
       "      <td>-1.672649</td>\n",
       "      <td>0.475142</td>\n",
       "      <td>0.991814</td>\n",
       "      <td>-1.161318</td>\n",
       "      <td>-0.978425</td>\n",
       "      <td>0.939014</td>\n",
       "      <td>1.758491</td>\n",
       "      <td>-1.289536</td>\n",
       "    </tr>\n",
       "    <tr>\n",
       "      <th>2</th>\n",
       "      <td>1.174008</td>\n",
       "      <td>-1.453541</td>\n",
       "      <td>-0.004255</td>\n",
       "      <td>1.706309</td>\n",
       "      <td>-0.491834</td>\n",
       "      <td>0.267863</td>\n",
       "      <td>-0.009508</td>\n",
       "      <td>0.570111</td>\n",
       "    </tr>\n",
       "    <tr>\n",
       "      <th>3</th>\n",
       "      <td>0.049490</td>\n",
       "      <td>1.156590</td>\n",
       "      <td>-0.481381</td>\n",
       "      <td>1.800342</td>\n",
       "      <td>0.112121</td>\n",
       "      <td>1.392071</td>\n",
       "      <td>0.616414</td>\n",
       "      <td>0.313009</td>\n",
       "    </tr>\n",
       "    <tr>\n",
       "      <th>4</th>\n",
       "      <td>0.071842</td>\n",
       "      <td>1.168283</td>\n",
       "      <td>1.109848</td>\n",
       "      <td>0.270812</td>\n",
       "      <td>-0.057500</td>\n",
       "      <td>1.017438</td>\n",
       "      <td>-0.272458</td>\n",
       "      <td>0.829795</td>\n",
       "    </tr>\n",
       "    <tr>\n",
       "      <th>...</th>\n",
       "      <td>...</td>\n",
       "      <td>...</td>\n",
       "      <td>...</td>\n",
       "      <td>...</td>\n",
       "      <td>...</td>\n",
       "      <td>...</td>\n",
       "      <td>...</td>\n",
       "      <td>...</td>\n",
       "    </tr>\n",
       "    <tr>\n",
       "      <th>6134</th>\n",
       "      <td>-1.302613</td>\n",
       "      <td>-0.258252</td>\n",
       "      <td>0.412437</td>\n",
       "      <td>-1.457845</td>\n",
       "      <td>-0.146594</td>\n",
       "      <td>0.052020</td>\n",
       "      <td>1.689564</td>\n",
       "      <td>1.640820</td>\n",
       "    </tr>\n",
       "    <tr>\n",
       "      <th>6135</th>\n",
       "      <td>-0.227803</td>\n",
       "      <td>0.709837</td>\n",
       "      <td>-0.462091</td>\n",
       "      <td>-0.866234</td>\n",
       "      <td>0.696373</td>\n",
       "      <td>-0.752870</td>\n",
       "      <td>1.714725</td>\n",
       "      <td>-0.618596</td>\n",
       "    </tr>\n",
       "    <tr>\n",
       "      <th>6136</th>\n",
       "      <td>-0.171623</td>\n",
       "      <td>-1.304673</td>\n",
       "      <td>-1.269172</td>\n",
       "      <td>-0.377554</td>\n",
       "      <td>1.475090</td>\n",
       "      <td>0.841879</td>\n",
       "      <td>-0.171194</td>\n",
       "      <td>1.149681</td>\n",
       "    </tr>\n",
       "    <tr>\n",
       "      <th>6137</th>\n",
       "      <td>0.408583</td>\n",
       "      <td>0.590953</td>\n",
       "      <td>0.900894</td>\n",
       "      <td>-0.781821</td>\n",
       "      <td>0.032451</td>\n",
       "      <td>-1.365842</td>\n",
       "      <td>0.189033</td>\n",
       "      <td>1.789720</td>\n",
       "    </tr>\n",
       "    <tr>\n",
       "      <th>6138</th>\n",
       "      <td>1.175743</td>\n",
       "      <td>0.523265</td>\n",
       "      <td>0.742797</td>\n",
       "      <td>-1.173342</td>\n",
       "      <td>-0.604915</td>\n",
       "      <td>1.708936</td>\n",
       "      <td>0.733271</td>\n",
       "      <td>1.667981</td>\n",
       "    </tr>\n",
       "  </tbody>\n",
       "</table>\n",
       "<p>6014 rows × 8 columns</p>\n",
       "</div>"
      ],
      "text/plain": [
       "      Material Quantity (gm)  Additive Catalyst (gm)  Ash Component (gm)  \\\n",
       "0                   0.683274               -0.121078           -1.225061   \n",
       "1                  -1.672649                0.475142            0.991814   \n",
       "2                   1.174008               -1.453541           -0.004255   \n",
       "3                   0.049490                1.156590           -0.481381   \n",
       "4                   0.071842                1.168283            1.109848   \n",
       "...                      ...                     ...                 ...   \n",
       "6134               -1.302613               -0.258252            0.412437   \n",
       "6135               -0.227803                0.709837           -0.462091   \n",
       "6136               -0.171623               -1.304673           -1.269172   \n",
       "6137                0.408583                0.590953            0.900894   \n",
       "6138                1.175743                0.523265            0.742797   \n",
       "\n",
       "      Water Mix (ml)  Plasticizer (gm)  Moderate Aggregator  \\\n",
       "0          -0.543975         -0.135457             1.558632   \n",
       "1          -1.161318         -0.978425             0.939014   \n",
       "2           1.706309         -0.491834             0.267863   \n",
       "3           1.800342          0.112121             1.392071   \n",
       "4           0.270812         -0.057500             1.017438   \n",
       "...              ...               ...                  ...   \n",
       "6134       -1.457845         -0.146594             0.052020   \n",
       "6135       -0.866234          0.696373            -0.752870   \n",
       "6136       -0.377554          1.475090             0.841879   \n",
       "6137       -0.781821          0.032451            -1.365842   \n",
       "6138       -1.173342         -0.604915             1.708936   \n",
       "\n",
       "      Refined Aggregator  Formulation Duration (hrs)  \n",
       "0              -0.914859                    1.520773  \n",
       "1               1.758491                   -1.289536  \n",
       "2              -0.009508                    0.570111  \n",
       "3               0.616414                    0.313009  \n",
       "4              -0.272458                    0.829795  \n",
       "...                  ...                         ...  \n",
       "6134            1.689564                    1.640820  \n",
       "6135            1.714725                   -0.618596  \n",
       "6136           -0.171194                    1.149681  \n",
       "6137            0.189033                    1.789720  \n",
       "6138            0.733271                    1.667981  \n",
       "\n",
       "[6014 rows x 8 columns]"
      ]
     },
     "execution_count": 26,
     "metadata": {},
     "output_type": "execute_result"
    }
   ],
   "source": [
    "X"
   ]
  },
  {
   "cell_type": "code",
   "execution_count": 27,
   "id": "b6499f5a",
   "metadata": {},
   "outputs": [],
   "source": [
    "Dependent_variable = cleaned_df['Compression Strength MPa']"
   ]
  },
  {
   "cell_type": "code",
   "execution_count": 28,
   "id": "1b126f13",
   "metadata": {},
   "outputs": [],
   "source": [
    "y = Dependent_variable"
   ]
  },
  {
   "cell_type": "code",
   "execution_count": 29,
   "id": "bccf3115",
   "metadata": {},
   "outputs": [
    {
     "data": {
      "text/plain": [
       "0       1.437657\n",
       "1       0.180424\n",
       "2       1.310619\n",
       "3       0.927629\n",
       "4       1.198601\n",
       "          ...   \n",
       "6134   -0.394686\n",
       "6135   -0.167521\n",
       "6136   -0.021709\n",
       "6137    0.080922\n",
       "6138    0.127857\n",
       "Name: Compression Strength MPa, Length: 6014, dtype: float64"
      ]
     },
     "execution_count": 29,
     "metadata": {},
     "output_type": "execute_result"
    }
   ],
   "source": [
    "y"
   ]
  },
  {
   "cell_type": "code",
   "execution_count": 30,
   "id": "6759bb62",
   "metadata": {},
   "outputs": [
    {
     "name": "stdout",
     "output_type": "stream",
     "text": [
      "Formulation Duration (hrs)    0.243626\n",
      "Additive Catalyst (gm)        0.159474\n",
      "Plasticizer (gm)              0.143251\n",
      "Material Quantity (gm)        0.131188\n",
      "Water Mix (ml)                0.082431\n",
      "Refined Aggregator            0.082316\n",
      "Ash Component (gm)            0.081063\n",
      "Moderate Aggregator           0.076653\n",
      "dtype: float64\n"
     ]
    }
   ],
   "source": [
    "# Initialize RandomForestRegressor\n",
    "rf = RandomForestRegressor()\n",
    "\n",
    "# Fit the model\n",
    "rf.fit(X, y)\n",
    "\n",
    "# Get feature importances\n",
    "feature_importances = pd.Series(rf.feature_importances_, index=X.columns).sort_values(ascending=False)\n",
    "print(feature_importances)"
   ]
  },
  {
   "cell_type": "markdown",
   "id": "86d51847",
   "metadata": {},
   "source": [
    "# 3.Univariate Feature Selection:\n",
    "Use statistical tests (like ANOVA F-test or chi-square test for classification) to select features based on their individual relationships with the target variable."
   ]
  },
  {
   "cell_type": "code",
   "execution_count": 31,
   "id": "5ca40a13",
   "metadata": {},
   "outputs": [
    {
     "name": "stdout",
     "output_type": "stream",
     "text": [
      "                      Feature       Score\n",
      "7  Formulation Duration (hrs)  441.684962\n",
      "4            Plasticizer (gm)  249.501933\n",
      "1      Additive Catalyst (gm)  206.208123\n",
      "0      Material Quantity (gm)   95.418550\n",
      "2          Ash Component (gm)   41.726236\n",
      "5         Moderate Aggregator    7.246491\n",
      "3              Water Mix (ml)    4.075866\n",
      "6          Refined Aggregator    0.477540\n"
     ]
    }
   ],
   "source": [
    "from sklearn.feature_selection import SelectKBest, f_regression\n",
    "\n",
    "selector = SelectKBest(score_func=f_regression, k='all')\n",
    "selector.fit(X, y)\n",
    "\n",
    "feature_scores = pd.DataFrame({'Feature': X.columns, 'Score': selector.scores_})\n",
    "feature_scores = feature_scores.sort_values(by='Score', ascending=False)\n",
    "print(feature_scores)"
   ]
  },
  {
   "cell_type": "markdown",
   "id": "df5cead5",
   "metadata": {},
   "source": [
    "# Comparing all these three techniques to select top features:"
   ]
  },
  {
   "cell_type": "code",
   "execution_count": 32,
   "id": "20a27dcf",
   "metadata": {},
   "outputs": [
    {
     "name": "stdout",
     "output_type": "stream",
     "text": [
      "Top 6 Features:\n",
      "Index(['Formulation Duration (hrs)', 'Plasticizer (gm)',\n",
      "       'Additive Catalyst (gm)', 'Material Quantity (gm)',\n",
      "       'Moderate Aggregator', 'Ash Component (gm)'],\n",
      "      dtype='object')\n"
     ]
    }
   ],
   "source": [
    "# Given top features from different methods\n",
    "correlation_features = ['Formulation Duration (hrs)', 'Plasticizer (gm)', 'Additive Catalyst (gm)', 'Material Quantity (gm)']\n",
    "random_forest_features = ['Formulation Duration (hrs)', 'Plasticizer (gm)', 'Additive Catalyst (gm)', 'Moderate Aggregator']\n",
    "univariate_features = ['Formulation Duration (hrs)', 'Plasticizer (gm)', 'Additive Catalyst (gm)', 'Ash Component (gm)']\n",
    "\n",
    "# Combine all top features into a single list\n",
    "all_top_features = (\n",
    "    correlation_features +\n",
    "    random_forest_features +\n",
    "    univariate_features\n",
    ")\n",
    "\n",
    "# Create a DataFrame to count feature occurrences\n",
    "features_count = pd.Series(all_top_features).value_counts()\n",
    "\n",
    "# Select top 6 features based on their frequency\n",
    "top_6_features = features_count.head(6).index\n",
    "\n",
    "# Display the top 6 features\n",
    "print(\"Top 6 Features:\")\n",
    "print(top_6_features)\n"
   ]
  },
  {
   "cell_type": "code",
   "execution_count": 33,
   "id": "58fcfa33",
   "metadata": {},
   "outputs": [],
   "source": [
    "X_selected= top_6_features"
   ]
  },
  {
   "cell_type": "code",
   "execution_count": 34,
   "id": "f61ac89f",
   "metadata": {},
   "outputs": [
    {
     "data": {
      "text/plain": [
       "Index(['Formulation Duration (hrs)', 'Plasticizer (gm)',\n",
       "       'Additive Catalyst (gm)', 'Material Quantity (gm)',\n",
       "       'Moderate Aggregator', 'Ash Component (gm)'],\n",
       "      dtype='object')"
      ]
     },
     "execution_count": 34,
     "metadata": {},
     "output_type": "execute_result"
    }
   ],
   "source": [
    "X_selected"
   ]
  },
  {
   "cell_type": "markdown",
   "id": "c5382d2b",
   "metadata": {},
   "source": [
    "# Calculate percentage of correlation for each feature"
   ]
  },
  {
   "cell_type": "code",
   "execution_count": 35,
   "id": "1a2e6daa",
   "metadata": {},
   "outputs": [
    {
     "name": "stdout",
     "output_type": "stream",
     "text": [
      "Material Quantity (gm)         12.499354\n",
      "Additive Catalyst (gm)         18.210432\n",
      "Ash Component (gm)              8.302200\n",
      "Water Mix (ml)                  2.602875\n",
      "Plasticizer (gm)               19.961708\n",
      "Moderate Aggregator             3.469707\n",
      "Refined Aggregator              0.891206\n",
      "Formulation Duration (hrs)     26.160885\n",
      "Compression Strength MPa      100.000000\n",
      "Name: Compression Strength MPa, dtype: float64\n"
     ]
    }
   ],
   "source": [
    "# Select the correlation of features with the target variable ('Compression Strength MPa')\n",
    "correlation_with_target = correlation_matrix['Compression Strength MPa'].abs()\n",
    "\n",
    "# Calculate percentage of correlation for each feature\n",
    "percentage_correlation = (correlation_with_target / correlation_with_target.max()) * 100\n",
    "\n",
    "# Display the percentage of correlation for each feature\n",
    "print(percentage_correlation)\n"
   ]
  },
  {
   "cell_type": "markdown",
   "id": "717131e1",
   "metadata": {},
   "source": [
    "# Predicting modelling:\n",
    "Step-1 \n",
    "\n",
    "Perform different regression model on top of selected features:\n",
    "\n",
    "1. Split the Data:\n",
    "\n",
    "Divide the dataset into training and testing sets to train the models on one set and evaluate their performance on another:"
   ]
  },
  {
   "cell_type": "code",
   "execution_count": 36,
   "id": "0ff6fb06",
   "metadata": {},
   "outputs": [],
   "source": [
    "# Selecting top features and the target variable\n",
    "X = cleaned_df[['Formulation Duration (hrs)', 'Plasticizer (gm)', 'Additive Catalyst (gm)', 'Material Quantity (gm)', 'Moderate Aggregator', 'Ash Component (gm)']]\n",
    "y = cleaned_df['Compression Strength MPa']  # Assuming 'Compression Strength MPa' is the target variable\n"
   ]
  },
  {
   "cell_type": "code",
   "execution_count": 37,
   "id": "58705efd",
   "metadata": {},
   "outputs": [
    {
     "data": {
      "text/html": [
       "<div>\n",
       "<style scoped>\n",
       "    .dataframe tbody tr th:only-of-type {\n",
       "        vertical-align: middle;\n",
       "    }\n",
       "\n",
       "    .dataframe tbody tr th {\n",
       "        vertical-align: top;\n",
       "    }\n",
       "\n",
       "    .dataframe thead th {\n",
       "        text-align: right;\n",
       "    }\n",
       "</style>\n",
       "<table border=\"1\" class=\"dataframe\">\n",
       "  <thead>\n",
       "    <tr style=\"text-align: right;\">\n",
       "      <th></th>\n",
       "      <th>Formulation Duration (hrs)</th>\n",
       "      <th>Plasticizer (gm)</th>\n",
       "      <th>Additive Catalyst (gm)</th>\n",
       "      <th>Material Quantity (gm)</th>\n",
       "      <th>Moderate Aggregator</th>\n",
       "      <th>Ash Component (gm)</th>\n",
       "    </tr>\n",
       "  </thead>\n",
       "  <tbody>\n",
       "    <tr>\n",
       "      <th>0</th>\n",
       "      <td>1.520773</td>\n",
       "      <td>-0.135457</td>\n",
       "      <td>-0.121078</td>\n",
       "      <td>0.683274</td>\n",
       "      <td>1.558632</td>\n",
       "      <td>-1.225061</td>\n",
       "    </tr>\n",
       "    <tr>\n",
       "      <th>1</th>\n",
       "      <td>-1.289536</td>\n",
       "      <td>-0.978425</td>\n",
       "      <td>0.475142</td>\n",
       "      <td>-1.672649</td>\n",
       "      <td>0.939014</td>\n",
       "      <td>0.991814</td>\n",
       "    </tr>\n",
       "    <tr>\n",
       "      <th>2</th>\n",
       "      <td>0.570111</td>\n",
       "      <td>-0.491834</td>\n",
       "      <td>-1.453541</td>\n",
       "      <td>1.174008</td>\n",
       "      <td>0.267863</td>\n",
       "      <td>-0.004255</td>\n",
       "    </tr>\n",
       "    <tr>\n",
       "      <th>3</th>\n",
       "      <td>0.313009</td>\n",
       "      <td>0.112121</td>\n",
       "      <td>1.156590</td>\n",
       "      <td>0.049490</td>\n",
       "      <td>1.392071</td>\n",
       "      <td>-0.481381</td>\n",
       "    </tr>\n",
       "    <tr>\n",
       "      <th>4</th>\n",
       "      <td>0.829795</td>\n",
       "      <td>-0.057500</td>\n",
       "      <td>1.168283</td>\n",
       "      <td>0.071842</td>\n",
       "      <td>1.017438</td>\n",
       "      <td>1.109848</td>\n",
       "    </tr>\n",
       "    <tr>\n",
       "      <th>...</th>\n",
       "      <td>...</td>\n",
       "      <td>...</td>\n",
       "      <td>...</td>\n",
       "      <td>...</td>\n",
       "      <td>...</td>\n",
       "      <td>...</td>\n",
       "    </tr>\n",
       "    <tr>\n",
       "      <th>6134</th>\n",
       "      <td>1.640820</td>\n",
       "      <td>-0.146594</td>\n",
       "      <td>-0.258252</td>\n",
       "      <td>-1.302613</td>\n",
       "      <td>0.052020</td>\n",
       "      <td>0.412437</td>\n",
       "    </tr>\n",
       "    <tr>\n",
       "      <th>6135</th>\n",
       "      <td>-0.618596</td>\n",
       "      <td>0.696373</td>\n",
       "      <td>0.709837</td>\n",
       "      <td>-0.227803</td>\n",
       "      <td>-0.752870</td>\n",
       "      <td>-0.462091</td>\n",
       "    </tr>\n",
       "    <tr>\n",
       "      <th>6136</th>\n",
       "      <td>1.149681</td>\n",
       "      <td>1.475090</td>\n",
       "      <td>-1.304673</td>\n",
       "      <td>-0.171623</td>\n",
       "      <td>0.841879</td>\n",
       "      <td>-1.269172</td>\n",
       "    </tr>\n",
       "    <tr>\n",
       "      <th>6137</th>\n",
       "      <td>1.789720</td>\n",
       "      <td>0.032451</td>\n",
       "      <td>0.590953</td>\n",
       "      <td>0.408583</td>\n",
       "      <td>-1.365842</td>\n",
       "      <td>0.900894</td>\n",
       "    </tr>\n",
       "    <tr>\n",
       "      <th>6138</th>\n",
       "      <td>1.667981</td>\n",
       "      <td>-0.604915</td>\n",
       "      <td>0.523265</td>\n",
       "      <td>1.175743</td>\n",
       "      <td>1.708936</td>\n",
       "      <td>0.742797</td>\n",
       "    </tr>\n",
       "  </tbody>\n",
       "</table>\n",
       "<p>6014 rows × 6 columns</p>\n",
       "</div>"
      ],
      "text/plain": [
       "      Formulation Duration (hrs)  Plasticizer (gm)  Additive Catalyst (gm)  \\\n",
       "0                       1.520773         -0.135457               -0.121078   \n",
       "1                      -1.289536         -0.978425                0.475142   \n",
       "2                       0.570111         -0.491834               -1.453541   \n",
       "3                       0.313009          0.112121                1.156590   \n",
       "4                       0.829795         -0.057500                1.168283   \n",
       "...                          ...               ...                     ...   \n",
       "6134                    1.640820         -0.146594               -0.258252   \n",
       "6135                   -0.618596          0.696373                0.709837   \n",
       "6136                    1.149681          1.475090               -1.304673   \n",
       "6137                    1.789720          0.032451                0.590953   \n",
       "6138                    1.667981         -0.604915                0.523265   \n",
       "\n",
       "      Material Quantity (gm)  Moderate Aggregator  Ash Component (gm)  \n",
       "0                   0.683274             1.558632           -1.225061  \n",
       "1                  -1.672649             0.939014            0.991814  \n",
       "2                   1.174008             0.267863           -0.004255  \n",
       "3                   0.049490             1.392071           -0.481381  \n",
       "4                   0.071842             1.017438            1.109848  \n",
       "...                      ...                  ...                 ...  \n",
       "6134               -1.302613             0.052020            0.412437  \n",
       "6135               -0.227803            -0.752870           -0.462091  \n",
       "6136               -0.171623             0.841879           -1.269172  \n",
       "6137                0.408583            -1.365842            0.900894  \n",
       "6138                1.175743             1.708936            0.742797  \n",
       "\n",
       "[6014 rows x 6 columns]"
      ]
     },
     "execution_count": 37,
     "metadata": {},
     "output_type": "execute_result"
    }
   ],
   "source": [
    "X"
   ]
  },
  {
   "cell_type": "code",
   "execution_count": 38,
   "id": "4d58a0e0",
   "metadata": {},
   "outputs": [
    {
     "data": {
      "text/plain": [
       "(6014, 6)"
      ]
     },
     "execution_count": 38,
     "metadata": {},
     "output_type": "execute_result"
    }
   ],
   "source": [
    "X.shape"
   ]
  },
  {
   "cell_type": "code",
   "execution_count": 39,
   "id": "2296ec51",
   "metadata": {},
   "outputs": [],
   "source": [
    "Dependent_variable = cleaned_df['Compression Strength MPa']"
   ]
  },
  {
   "cell_type": "code",
   "execution_count": 40,
   "id": "ce5db512",
   "metadata": {},
   "outputs": [],
   "source": [
    "y = Dependent_variable # Assuming 'Compression Strength MPa' is the target variable"
   ]
  },
  {
   "cell_type": "code",
   "execution_count": 41,
   "id": "434d90f5",
   "metadata": {},
   "outputs": [
    {
     "data": {
      "text/plain": [
       "0       1.437657\n",
       "1       0.180424\n",
       "2       1.310619\n",
       "3       0.927629\n",
       "4       1.198601\n",
       "          ...   \n",
       "6134   -0.394686\n",
       "6135   -0.167521\n",
       "6136   -0.021709\n",
       "6137    0.080922\n",
       "6138    0.127857\n",
       "Name: Compression Strength MPa, Length: 6014, dtype: float64"
      ]
     },
     "execution_count": 41,
     "metadata": {},
     "output_type": "execute_result"
    }
   ],
   "source": [
    "y"
   ]
  },
  {
   "cell_type": "code",
   "execution_count": 42,
   "id": "6cf4b083",
   "metadata": {},
   "outputs": [
    {
     "data": {
      "text/plain": [
       "(6014, 6)"
      ]
     },
     "execution_count": 42,
     "metadata": {},
     "output_type": "execute_result"
    }
   ],
   "source": [
    "X.shape"
   ]
  },
  {
   "cell_type": "code",
   "execution_count": 43,
   "id": "e7510dca",
   "metadata": {},
   "outputs": [],
   "source": [
    "# Splitting the dataset into training and testing sets (80% train, 20% test)\n",
    "X_train, X_test, y_train, y_test = train_test_split(X, y, test_size=0.2, random_state=42)"
   ]
  },
  {
   "cell_type": "code",
   "execution_count": 44,
   "id": "facfe834",
   "metadata": {},
   "outputs": [
    {
     "data": {
      "text/plain": [
       "(6014, 6)"
      ]
     },
     "execution_count": 44,
     "metadata": {},
     "output_type": "execute_result"
    }
   ],
   "source": [
    "X.shape"
   ]
  },
  {
   "cell_type": "code",
   "execution_count": 45,
   "id": "dbdc458e",
   "metadata": {},
   "outputs": [
    {
     "data": {
      "text/plain": [
       "(1203, 6)"
      ]
     },
     "execution_count": 45,
     "metadata": {},
     "output_type": "execute_result"
    }
   ],
   "source": [
    "X_test.shape"
   ]
  },
  {
   "cell_type": "code",
   "execution_count": 46,
   "id": "bd642866",
   "metadata": {},
   "outputs": [],
   "source": [
    "# Initialize Random Forest Regression model\n",
    "random_forest_reg = RandomForestRegressor()"
   ]
  },
  {
   "cell_type": "code",
   "execution_count": 47,
   "id": "ea8b2d1f",
   "metadata": {
    "scrolled": true
   },
   "outputs": [],
   "source": [
    "# Fit the Random Forest Regression model on the training data\n",
    "random_forest_reg.fit(X_train, y_train)\n",
    "# Predict using Random Forest Regression model\n",
    "y_pred_rf = random_forest_reg.predict(X_test)"
   ]
  },
  {
   "cell_type": "code",
   "execution_count": 48,
   "id": "3dc8c544",
   "metadata": {},
   "outputs": [],
   "source": [
    "# Evaluate Random Forest Regression model performance\n",
    "mse_rf = mean_squared_error(y_test, y_pred_rf)\n",
    "mae_rf = mean_absolute_error(y_test, y_pred_rf)\n",
    "r2_score_rf = r2_score(y_test, y_pred_rf)"
   ]
  },
  {
   "cell_type": "code",
   "execution_count": 49,
   "id": "f92514e0",
   "metadata": {},
   "outputs": [
    {
     "name": "stdout",
     "output_type": "stream",
     "text": [
      "Random Forest Regression Performance:\n",
      "Mean Squared Error (MSE): 0.600529351142682\n",
      "Mean Absolute Error (MAE): 0.6209914985062813\n",
      "r2_score(r2_score): 0.37369977073826777\n"
     ]
    }
   ],
   "source": [
    "print(\"Random Forest Regression Performance:\")\n",
    "print(f\"Mean Squared Error (MSE): {mse_rf}\")\n",
    "print(f\"Mean Absolute Error (MAE): {mae_rf}\")\n",
    "print(f\"r2_score(r2_score): {r2_score_rf}\")"
   ]
  },
  {
   "cell_type": "code",
   "execution_count": null,
   "id": "5c32181b",
   "metadata": {},
   "outputs": [],
   "source": [
    "import pickle\n",
    "\n",
    "# Your data structure (e.g., dictionary)\n",
    "data = {'key': 'value'}\n",
    "\n",
    "# File path where you want to save the pickle file (change 'file_path' to your desired location)\n",
    "file_path = 'path/to/desktop/file.pickle'\n",
    "\n",
    "# Writing to pickle file\n",
    "with open(file_path, 'wb') as file:\n",
    "    pickle.dump(data, file)\n"
   ]
  },
  {
   "cell_type": "code",
   "execution_count": null,
   "id": "f13118f1",
   "metadata": {},
   "outputs": [],
   "source": []
  },
  {
   "cell_type": "code",
   "execution_count": 50,
   "id": "ed2a4b3f",
   "metadata": {},
   "outputs": [],
   "source": [
    "import pickle"
   ]
  },
  {
   "cell_type": "code",
   "execution_count": 52,
   "id": "f7d0d6a4",
   "metadata": {},
   "outputs": [],
   "source": [
    "# Save the trained model to a file using pickle\n",
    "with open('random_forest_reg.pkl', 'wb') as file:\n",
    "    pickle.dump(random_forest_reg, file)"
   ]
  },
  {
   "cell_type": "code",
   "execution_count": null,
   "id": "aea6f968",
   "metadata": {},
   "outputs": [],
   "source": []
  }
 ],
 "metadata": {
  "kernelspec": {
   "display_name": "Python 3 (ipykernel)",
   "language": "python",
   "name": "python3"
  },
  "language_info": {
   "codemirror_mode": {
    "name": "ipython",
    "version": 3
   },
   "file_extension": ".py",
   "mimetype": "text/x-python",
   "name": "python",
   "nbconvert_exporter": "python",
   "pygments_lexer": "ipython3",
   "version": "3.10.9"
  }
 },
 "nbformat": 4,
 "nbformat_minor": 5
}
